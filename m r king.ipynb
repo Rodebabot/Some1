{
 "cells": [
  {
   "cell_type": "code",
   "execution_count": 10,
   "metadata": {},
   "outputs": [
    {
     "name": "stdout",
     "output_type": "stream",
     "text": [
      "\n",
      "something written   1  2   3   4 \n",
      "p o\n",
      "something written   5  9   3   4 \n",
      "c o\n"
     ]
    }
   ],
   "source": [
    "import pandas as pd\n",
    "import re\n",
    "import re\n",
    "\n",
    "def extract_data_from_notepad(notepad_file):\n",
    "    with open(notepad_file, 'r', encoding='utf-8') as file:\n",
    "        content = file.read()\n",
    "        print(content)  # Print the content of the file\n",
    "\n",
    "    # Define your regular expression pattern based on the structure of the notepad file\n",
    "    pattern = r'(\\w+),(\\d+),(\\w+)'\n",
    "    matches = re.findall(pattern, content)\n",
    "\n",
    "    # Create a list of lists to store the extracted data\n",
    "    extracted_data = []\n",
    "    for match in matches:\n",
    "        extracted_data.append(list(match))\n",
    "\n",
    "    return extracted_data\n",
    "\n",
    "# Prompt the user to input the path to the notepad file\n",
    "notepad_file = r'C:\\Users\\Admin\\chatgpt_notepad.txt'\n",
    "\n",
    "\n",
    "# Extract data from the notepad file\n",
    "data = extract_data_from_notepad(notepad_file)\n",
    "\n",
    "# Print the extracted data\n",
    "for row in data:\n",
    "    print(row)"
   ]
  },
  {
   "cell_type": "code",
   "execution_count": 12,
   "metadata": {},
   "outputs": [
    {
     "name": "stdout",
     "output_type": "stream",
     "text": [
      "Enter the path to the notepad file: C:\\Users\\Admin\\chatgpt_notepad.txt\n"
     ]
    }
   ],
   "source": [
    "import re\n",
    "import pandas as pd\n",
    "\n",
    "def extract_data_from_notepad(notepad_file):\n",
    "    with open(notepad_file, 'r', encoding='utf-8') as file:\n",
    "        content = file.readlines()\n",
    "\n",
    "    extracted_data = []\n",
    "    for i in range(0, len(content), 2):\n",
    "        line1 = content[i].strip()\n",
    "        line2 = content[i + 1].strip()\n",
    "        columns = re.split(r'\\s+', line1)  # Split line1 based on spaces\n",
    "\n",
    "        # Extend columns with values from line2\n",
    "        columns.extend(re.split(r'\\s+', line2))\n",
    "\n",
    "        extracted_data.append(columns)\n",
    "\n",
    "    return extracted_data\n",
    "\n",
    "# Prompt the user to input the path to the notepad file\n",
    "notepad_file = input(\"Enter the path to the notepad file: \")\n",
    "\n",
    "# Extract data from the notepad file\n",
    "data = extract_data_from_notepad(notepad_file)\n",
    "\n",
    "# Convert the extracted data to a pandas DataFrame\n",
    "df = pd.DataFrame(data)\n",
    "\n",
    "# Save the DataFrame to an Excel file\n",
    "df.to_excel(\"output_excel_file.xlsx\", index=False)"
   ]
  },
  {
   "cell_type": "code",
   "execution_count": null,
   "metadata": {},
   "outputs": [],
   "source": [
    "def transform_data(data):\n",
    "    # Implement your logic to transform the extracted data\n",
    "    # into a structured format\n",
    "    # Return the transformed data as a pandas DataFrame\n",
    "\n",
    "def train_model(cleaned_excel_file):\n",
    "    # Load the cleaned Excel file into a pandas DataFrame\n",
    "    df = pd.read_excel(cleaned_excel_file)\n",
    "\n",
    "    # Implement your logic to train a machine learning model\n",
    "    # using the data from the cleaned Excel file\n",
    "    # Return the trained model\n",
    "\n",
    "def generate_excel_from_notepad(notepad_file, model):\n",
    "    # Extract data from the notepad file\n",
    "    extracted_data = extract_data_from_notepad(notepad_file)\n",
    "\n",
    "    # Transform the extracted data into a structured format\n",
    "    transformed_data = transform_data(extracted_data)\n",
    "\n",
    "    # Use the trained model to generate the Excel file\n",
    "    predicted_data = model.predict(transformed_data)\n",
    "\n",
    "    # Create a new pandas DataFrame with the predicted data\n",
    "    df = pd.DataFrame(predicted_data)\n",
    "\n",
    "    # Save the DataFrame to an Excel file\n",
    "    df.to_excel(\"output_excel_file.xlsx\", index=False)\n",
    "\n",
    "# Prompt the user to input the notepad and cleaned Excel files\n",
    "notepad_file = input(\"Enter the path to the notepad file: \")\n",
    "cleaned_excel_file = input(\"Enter the path to the cleaned Excel file: \")\n",
    "\n",
    "# Train the model using the cleaned Excel file\n",
    "model = train_model(cleaned_excel_file)\n",
    "\n",
    "# Generate the Excel file from the new notepad file\n",
    "generate_excel_from_notepad(notepad_file, model)\n"
   ]
  }
 ],
 "metadata": {
  "kernelspec": {
   "display_name": "Python 3",
   "language": "python",
   "name": "python3"
  },
  "language_info": {
   "codemirror_mode": {
    "name": "ipython",
    "version": 3
   },
   "file_extension": ".py",
   "mimetype": "text/x-python",
   "name": "python",
   "nbconvert_exporter": "python",
   "pygments_lexer": "ipython3",
   "version": "3.7.6"
  }
 },
 "nbformat": 4,
 "nbformat_minor": 4
}
